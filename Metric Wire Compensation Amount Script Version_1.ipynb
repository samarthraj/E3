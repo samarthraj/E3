{
 "cells": [
  {
   "cell_type": "code",
   "execution_count": 11,
   "id": "01696c7a",
   "metadata": {},
   "outputs": [
    {
     "name": "stdout",
     "output_type": "stream",
     "text": [
      "{\"access_token\":\"9A1TCbRCYLAaJOep1GOYpMR/wRrobuQd7fXbTSNHwi0=\",\"refresh_token\":\"pGEQauwuWc9lD1Ty+uBKwvltMPZkM73eV2gwG5X7cOU=\",\"expires_in\":43200,\"user_id\":\"615dc0b4c9cd786c2358bbd1\",\"token_type\":\"Bearer\"}\n"
     ]
    }
   ],
   "source": [
    "import json\n",
    "import requests\n",
    "\n",
    "url = \"https://consumer-api.metricwire.com/oauth/token\"\n",
    "\n",
    "payload={'grant_type': 'client_credentials',\n",
    "'client_id': '+tjK2psbuMwc+aEKg/vlDlBgv/42l3MQetogTZmjprM=',\n",
    "'client_secret': 'JwOtujMn5RowoePyc3prSkbVVk+Qrw+QDeOLJmJIpSQ='} \n",
    "files=[\n",
    "\n",
    "]\n",
    "headers = {\n",
    "  'accept': 'application/json',\n",
    "  'Content-Type': 'application/x-www-form-urlencoded'\n",
    "}\n",
    "\n",
    "response = requests.request(\"POST\", url, headers=headers, data=payload, files=files)\n",
    "\n",
    "print(response.text)"
   ]
  },
  {
   "cell_type": "code",
   "execution_count": 12,
   "id": "3c4c4e64",
   "metadata": {},
   "outputs": [
    {
     "data": {
      "text/plain": [
       "'9A1TCbRCYLAaJOep1GOYpMR/wRrobuQd7fXbTSNHwi0='"
      ]
     },
     "execution_count": 12,
     "metadata": {},
     "output_type": "execute_result"
    }
   ],
   "source": [
    "json_response = json.loads(response.text)\n",
    "json_response[\"access_token\"]"
   ]
  },
  {
   "cell_type": "code",
   "execution_count": 13,
   "id": "2404fcd1",
   "metadata": {},
   "outputs": [],
   "source": [
    "import requests\n",
    "\n",
    "url = \"https://consumer-api.metricwire.com/submissions/606f71db399be6266873d0bd/606f73e3399be6266873d6b2/606f73e1399be6266873d0be\"\n",
    "\n",
    "payload={}\n",
    "headers = {\n",
    "  'Authorization': 'Bearer ' + json_response[\"access_token\"]\n",
    "}\n",
    "\n",
    "response_food_and_drink = requests.request(\"GET\", url, headers=headers, data=payload)\n",
    "\n",
    "#print(response_food_and_drink.text)"
   ]
  },
  {
   "cell_type": "code",
   "execution_count": 14,
   "id": "27d705fb",
   "metadata": {},
   "outputs": [],
   "source": [
    "import requests\n",
    "\n",
    "url = \"https://consumer-api.metricwire.com/submissions/606f71db399be6266873d0bd/606f73e3399be6266873d6b2/606f73e1399be6266873d1ec\"\n",
    "\n",
    "payload={}\n",
    "headers = {\n",
    "  'Authorization': 'Bearer ' + json_response[\"access_token\"]\n",
    "}\n",
    "\n",
    "response_physical_activity = requests.request(\"GET\", url, headers=headers, data=payload)\n",
    "\n",
    "#print(response_physical_activity.text)"
   ]
  },
  {
   "cell_type": "code",
   "execution_count": 15,
   "id": "4d9a8ab5",
   "metadata": {},
   "outputs": [],
   "source": [
    "import requests\n",
    "\n",
    "url = \"https://consumer-api.metricwire.com/submissions/606f71db399be6266873d0bd/606f73e3399be6266873d6b2/606f73e1399be6266873d23d\"\n",
    "\n",
    "payload={}\n",
    "headers = {\n",
    "  'Authorization': 'Bearer ' + json_response[\"access_token\"]\n",
    "}\n",
    "\n",
    "response_random_survey = requests.request(\"GET\", url, headers=headers, data=payload)\n",
    "\n",
    "#print(response_random_survey.text)"
   ]
  },
  {
   "cell_type": "code",
   "execution_count": 16,
   "id": "6d71c173",
   "metadata": {},
   "outputs": [],
   "source": [
    "json_res = json.loads(response_food_and_drink.text)\n",
    "json_res_questions = json_res[\"surveyMeta\"]\n",
    "json_res_submissions_food_and_drink = json_res[\"submissions\"]\n",
    "#json_res_submissions_food_and_drink"
   ]
  },
  {
   "cell_type": "code",
   "execution_count": 17,
   "id": "98ce5695",
   "metadata": {},
   "outputs": [],
   "source": [
    "json_res_physical_activity = json.loads(response_physical_activity.text)\n",
    "json_res_questions_physical_activity = json_res_physical_activity[\"surveyMeta\"]\n",
    "json_res_submissions_physical_activity = json_res_physical_activity[\"submissions\"]\n",
    "#json_res_submissions_physical_activity"
   ]
  },
  {
   "cell_type": "code",
   "execution_count": 18,
   "id": "e47e7c9a",
   "metadata": {},
   "outputs": [],
   "source": [
    "json_res_ra = json.loads(response_random_survey.text)\n",
    "json_res_questions_ra = json_res_ra[\"surveyMeta\"]\n",
    "json_res_submissions_ra = json_res_ra[\"submissions\"]\n",
    "#json_res_submissions_ra"
   ]
  },
  {
   "cell_type": "code",
   "execution_count": 19,
   "id": "6b077180",
   "metadata": {},
   "outputs": [],
   "source": [
    "#FOR FOOD AND DRINK SURVEY\n",
    "#the key,value contains name and date submitted \n",
    "userinfo_fd = []\n",
    "userdate_fd = []\n",
    "\n",
    "for all_submissions in json_res_submissions_food_and_drink:\n",
    "    for key,value in all_submissions.items():\n",
    "        if key==\"userInfo\":\n",
    "            userinfo_fd.append(value)\n",
    "        if key==\"timestampCreatedLocal\":\n",
    "            userdate_fd.append(value)\n",
    "            \n",
    "resultant_dict_food_and_drink = [ userinfo_fd[x].update(userdate_fd[x]) for x in range (len (userinfo_fd))]  \n",
    "\n",
    "#FOR PHYSICAL ACTIVITY SURVEY\n",
    "#the key,value contains name and date submitted \n",
    "userinfo_pa = []\n",
    "userdate_pa = []\n",
    "\n",
    "for all_submissions in json_res_submissions_physical_activity:\n",
    "    for key,value in all_submissions.items():\n",
    "        if key==\"userInfo\":\n",
    "            userinfo_pa.append(value)\n",
    "        if key==\"timestampCreatedLocal\":\n",
    "            userdate_pa.append(value)\n",
    "            \n",
    "resultant_dict_physical_act = [ userinfo_pa[x].update(userdate_pa[x]) for x in range (len (userinfo_pa))]  \n",
    "\n",
    "\n",
    "#FOR RANDOM SURVEY\n",
    "#the key,value contains name and date submitted \n",
    "userinfo_ra = []\n",
    "userdate_ra = []\n",
    "\n",
    "for all_submissions in json_res_submissions_ra:\n",
    "    for key,value in all_submissions.items():\n",
    "        if key==\"userInfo\":\n",
    "            userinfo_ra.append(value)\n",
    "        if key==\"timestampCreatedLocal\":\n",
    "            userdate_ra.append(value)\n",
    "            \n",
    "resultant_dict_ra = [ userinfo_ra[x].update(userdate_ra[x]) for x in range (len (userinfo_ra))]  "
   ]
  },
  {
   "cell_type": "code",
   "execution_count": 23,
   "id": "546cb0e4",
   "metadata": {
    "scrolled": false
   },
   "outputs": [
    {
     "name": "stdout",
     "output_type": "stream",
     "text": [
      "Please type email address:hkim459@uic.edu\n"
     ]
    }
   ],
   "source": [
    "import sys\n",
    "count = 0\n",
    "total_amt_fd = 0\n",
    "total_amt_pa = 0\n",
    "total_amt_ra = 0\n",
    "fd_ct = 0\n",
    "pa_ct = 0\n",
    "ra_ct = 0\n",
    "\n",
    "date_list_fd = []\n",
    "date_new_dict_fd = {}\n",
    "\n",
    "date_list_pa = []\n",
    "date_new_dict_pa = {}\n",
    "\n",
    "date_list_ra = []\n",
    "date_new_dict_ra = {}\n",
    "\n",
    "original_stdout = sys.stdout \n",
    "email_id = input('Please type email address:')\n",
    "\n",
    "\n",
    "#FOR FOOD AND DRINK SURVEY \n",
    "for info_dict in userinfo_fd:\n",
    "    if info_dict['email'] == email_id:\n",
    "        date_list_fd.append(info_dict['date'])\n",
    "\n",
    "for date in date_list_fd:\n",
    "    date_new_dict_fd[date] = date_list_fd.count(date)\n",
    "    \n",
    "\n",
    "    \n",
    "#FOR PHYSICAL ACTIVITY SURVEY\n",
    "for info_dict in userinfo_pa:\n",
    "    if info_dict['email'] == email_id:\n",
    "        date_list_pa.append(info_dict['date'])\n",
    "        \n",
    "for date in date_list_pa:\n",
    "    date_new_dict_pa[date] = date_list_pa.count(date)\n",
    "    \n",
    "        \n",
    "#FOR RANDOM SURVEY\n",
    "for info_dict in userinfo_ra:\n",
    "    if info_dict['email'] == email_id:\n",
    "        date_list_ra.append(info_dict['date'])\n",
    "\n",
    "for date in date_list_ra:\n",
    "    date_new_dict_ra[date] = date_list_ra.count(date)\n",
    "\n",
    "    \n",
    "with open('output.txt', 'w') as f:\n",
    "    sys.stdout = f \n",
    "    print('Number of Surveys Completed by the email id: '+ email_id)\n",
    "    print('\\n')\n",
    "    print('Food and Drink Survey')\n",
    "    for dt,ct in date_new_dict_fd.items():\n",
    "        #print('Food and Drink Survey')\n",
    "        print('\\n')\n",
    "        print(dt, ct)\n",
    "    \n",
    "    print('\\n')\n",
    "    print('Physical Activity Survey') \n",
    "    for dt,ct in date_new_dict_pa.items():\n",
    "        #print('Physical Activity Survey')\n",
    "        print('\\n')\n",
    "        print(dt, ct)\n",
    "    \n",
    "    print('\\n')\n",
    "    print('Random Survey')\n",
    "    for dt,ct in date_new_dict_ra.items():\n",
    "        #print('Random Survey')\n",
    "        print('\\n')\n",
    "        print(dt, ct) \n",
    "    \n",
    "    print('\\n')\n",
    "    for dt,ct in date_new_dict_fd.items():\n",
    "        if ct>=1:\n",
    "            print(email_id + ' gets a compensation amount of $5 for '+ dt + ' since number of surveys for the day is ' + str(ct))\n",
    "            total_amt_fd = total_amt_fd + 5\n",
    "        elif ct<1:\n",
    "            print('no compensation amount for ' + dt)\n",
    "\n",
    "    for dt,ct in date_new_dict_pa.items():\n",
    "        if ct>=1:\n",
    "            print(email_id + ' gets a compensation amount of $5 for '+ dt + ' since number of surveys for the day is ' + str(ct))\n",
    "            total_amt_pa = total_amt_pa + 5\n",
    "        elif ct<1:\n",
    "            print('no compensation amount for ' + dt)\n",
    "\n",
    "    for dt,ct in date_new_dict_ra.items():\n",
    "        if ct>=1:\n",
    "            print(email_id + ' gets a compensation amount of $5 for '+ dt + ' since number of surveys for the day is ' + str(ct))\n",
    "            total_amt_ra = total_amt_ra + 5\n",
    "        elif ct<1:\n",
    "            print('no compensation amount for ' + dt)\n",
    "\n",
    "    total_amount = total_amt_fd + total_amt_pa + total_amt_ra\n",
    "\n",
    "    print('The Total Compensation Amount is $',total_amount)\n",
    "    print('\\n')\n",
    "    #FOR COUNTING TOTAL NUMBER OF SURVEYS \n",
    "\n",
    "    for key,val in date_new_dict_fd.items():\n",
    "        fd_ct = fd_ct + val \n",
    "\n",
    "    for key,val in date_new_dict_pa.items():\n",
    "        pa_ct = pa_ct + val \n",
    "\n",
    "    for key,val in date_new_dict_ra.items():\n",
    "        ra_ct = ra_ct + val\n",
    "\n",
    "    total_ct = fd_ct + pa_ct + ra_ct\n",
    "    print('Total number of surveys completed is ' + str(total_ct))\n",
    "    print('\\n')\n",
    "    \n",
    "    if total_ct>=5: \n",
    "        bonus_compensation = 26\n",
    "        print('Participant gets a Bonus Compensation Amount of $'+ str(bonus_compensation) +' since total number of survey completed is more than 5')\n",
    "        print('\\n')\n",
    "        \n",
    "    final_amount = total_amount + bonus_compensation\n",
    "    print('Total Amount to be paid is $' + str(final_amount))\n",
    "    \n",
    "    sys.stdout = original_stdout \n",
    "f.close()"
   ]
  },
  {
   "cell_type": "code",
   "execution_count": null,
   "id": "cada11ff",
   "metadata": {},
   "outputs": [],
   "source": []
  },
  {
   "cell_type": "code",
   "execution_count": null,
   "id": "8ad5fcfa",
   "metadata": {},
   "outputs": [],
   "source": []
  },
  {
   "cell_type": "code",
   "execution_count": null,
   "id": "48753ac2",
   "metadata": {},
   "outputs": [],
   "source": []
  }
 ],
 "metadata": {
  "kernelspec": {
   "display_name": "Python 3",
   "language": "python",
   "name": "python3"
  },
  "language_info": {
   "codemirror_mode": {
    "name": "ipython",
    "version": 3
   },
   "file_extension": ".py",
   "mimetype": "text/x-python",
   "name": "python",
   "nbconvert_exporter": "python",
   "pygments_lexer": "ipython3",
   "version": "3.8.8"
  }
 },
 "nbformat": 4,
 "nbformat_minor": 5
}
